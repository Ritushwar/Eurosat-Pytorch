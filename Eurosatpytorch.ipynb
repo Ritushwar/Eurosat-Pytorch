{
 "cells": [
  {
   "cell_type": "code",
   "execution_count": 66,
   "metadata": {},
   "outputs": [],
   "source": [
    "# import required library\n",
    "import torch\n",
    "import numpy as np\n",
    "import torchvision\n",
    "from torch import nn\n",
    "from torchvision import datasets\n",
    "from torch.utils.data import DataLoader\n",
    "from torchvision.transforms import ToTensor\n",
    "import matplotlib.pyplot as plt"
   ]
  },
  {
   "cell_type": "markdown",
   "metadata": {},
   "source": [
    "### I got the SSL_Certificate_Verified_error\n",
    "### So I manually download the data and unzip and put it on the required directory"
   ]
  },
  {
   "cell_type": "code",
   "execution_count": 10,
   "metadata": {},
   "outputs": [],
   "source": [
    "import ssl\n",
    "ssl._create_default_https_context = ssl._create_unverified_context\n",
    "\n",
    "# Download Training data from open datasets\n",
    "data = torchvision.datasets.EuroSAT(\n",
    "    root=\"data\",   # where to download data to?\n",
    "    download=True, # download if doesnot exist on disk\n",
    "    transform=ToTensor(),  # image come as PIL format, convert this into tensor\n",
    "    target_transform=None  # for transform label as well\n",
    ")"
   ]
  },
  {
   "cell_type": "code",
   "execution_count": 14,
   "metadata": {},
   "outputs": [
    {
     "data": {
      "text/plain": [
       "Dataset EuroSAT\n",
       "    Number of datapoints: 27000\n",
       "    Root location: data\n",
       "    StandardTransform\n",
       "Transform: ToTensor()"
      ]
     },
     "execution_count": 14,
     "metadata": {},
     "output_type": "execute_result"
    }
   ],
   "source": [
    "data"
   ]
  },
  {
   "cell_type": "code",
   "execution_count": 35,
   "metadata": {},
   "outputs": [
    {
     "name": "stdout",
     "output_type": "stream",
     "text": [
      "21600 5400\n"
     ]
    }
   ],
   "source": [
    "# Splitting the data for training and testing\n",
    "#import sklearn\n",
    "#from sklearn.model_selection import train_test_split\n",
    "#training_data, testing_data = train_test_split(data, test_size=0.2, random_state=42)\n",
    "\n",
    "# It takes too much time to split so better to use\n",
    "# torch.utils.data.random_split\n",
    "# train_test_split from scikit learn is not optimized for handling tensor so it returns the list\n",
    "# as the training and testing sets\n",
    "torch.manual_seed(42)\n",
    "from torch.utils.data import random_split\n",
    "train_size = int(0.8 * len(data))\n",
    "test_size = len(data) - train_size\n",
    "print(train_size, test_size)\n",
    "training_data, testing_data = random_split(data, [train_size, test_size])"
   ]
  },
  {
   "cell_type": "code",
   "execution_count": 36,
   "metadata": {},
   "outputs": [
    {
     "data": {
      "text/plain": [
       "(21600, 21600)"
      ]
     },
     "execution_count": 36,
     "metadata": {},
     "output_type": "execute_result"
    }
   ],
   "source": [
    "# How many sample are there\n",
    "len(training_data), len(training_data)"
   ]
  },
  {
   "cell_type": "code",
   "execution_count": 43,
   "metadata": {},
   "outputs": [
    {
     "name": "stdout",
     "output_type": "stream",
     "text": [
      "Tensor\n"
     ]
    }
   ],
   "source": [
    "if isinstance(training_data[0][0], torch.Tensor):  # training data is a subset\n",
    "    print(\"Tensor\")"
   ]
  },
  {
   "cell_type": "code",
   "execution_count": 57,
   "metadata": {},
   "outputs": [
    {
     "data": {
      "text/plain": [
       "['AnnualCrop',\n",
       " 'Forest',\n",
       " 'HerbaceousVegetation',\n",
       " 'Highway',\n",
       " 'Industrial',\n",
       " 'Pasture',\n",
       " 'PermanentCrop',\n",
       " 'Residential',\n",
       " 'River',\n",
       " 'SeaLake']"
      ]
     },
     "execution_count": 57,
     "metadata": {},
     "output_type": "execute_result"
    }
   ],
   "source": [
    "# see classes name\n",
    "# While creating a subset using random_split mwthod, the subset object doesnot have a classes attribute.\n",
    "# The classes attribute is available on the original datset so used data.classes\n",
    "class_names = data.classes\n",
    "class_names"
   ]
  },
  {
   "cell_type": "code",
   "execution_count": 73,
   "metadata": {},
   "outputs": [
    {
     "data": {
      "text/plain": [
       "(tensor([[[0.2314, 0.2275, 0.2235,  ..., 0.7451, 0.7137, 0.6784],\n",
       "          [0.2314, 0.2314, 0.2196,  ..., 0.7412, 0.7020, 0.6706],\n",
       "          [0.2078, 0.2078, 0.2118,  ..., 0.5882, 0.5529, 0.5216],\n",
       "          ...,\n",
       "          [0.3765, 0.3647, 0.2824,  ..., 0.8431, 0.8588, 0.8431],\n",
       "          [0.5059, 0.4902, 0.3804,  ..., 0.8000, 0.8431, 0.8078],\n",
       "          [0.5529, 0.5373, 0.4706,  ..., 0.7961, 0.8078, 0.8118]],\n",
       " \n",
       "         [[0.3255, 0.3216, 0.3098,  ..., 0.6118, 0.5804, 0.5490],\n",
       "          [0.3255, 0.3255, 0.3059,  ..., 0.6118, 0.5804, 0.5490],\n",
       "          [0.3020, 0.3020, 0.2980,  ..., 0.4784, 0.4392, 0.4196],\n",
       "          ...,\n",
       "          [0.3922, 0.3961, 0.3373,  ..., 0.6510, 0.6549, 0.6392],\n",
       "          [0.4510, 0.4549, 0.3843,  ..., 0.6118, 0.6510, 0.6157],\n",
       "          [0.4706, 0.4745, 0.4471,  ..., 0.6078, 0.6157, 0.6196]],\n",
       " \n",
       "         [[0.3647, 0.3608, 0.3529,  ..., 0.5647, 0.5451, 0.5216],\n",
       "          [0.3647, 0.3647, 0.3490,  ..., 0.5765, 0.5608, 0.5373],\n",
       "          [0.3490, 0.3490, 0.3490,  ..., 0.4667, 0.4471, 0.4235],\n",
       "          ...,\n",
       "          [0.4039, 0.4078, 0.3490,  ..., 0.5922, 0.6000, 0.5843],\n",
       "          [0.4510, 0.4588, 0.4000,  ..., 0.5569, 0.5961, 0.5608],\n",
       "          [0.4667, 0.4784, 0.4627,  ..., 0.5608, 0.5608, 0.5647]]]),\n",
       " 0)"
      ]
     },
     "execution_count": 73,
     "metadata": {},
     "output_type": "execute_result"
    }
   ],
   "source": [
    "# Visualize the data\n",
    "image_tensor, label = training_data[1]\n",
    "image_tensor, label"
   ]
  },
  {
   "cell_type": "code",
   "execution_count": 74,
   "metadata": {},
   "outputs": [
    {
     "data": {
      "text/plain": [
       "torch.Size([3, 64, 64])"
      ]
     },
     "execution_count": 74,
     "metadata": {},
     "output_type": "execute_result"
    }
   ],
   "source": [
    "image_tensor.shape  # color_channel, height, width"
   ]
  },
  {
   "cell_type": "code",
   "execution_count": 75,
   "metadata": {},
   "outputs": [
    {
     "data": {
      "image/png": "[encoded data removed]",
      "text/plain": [
       "<Figure size 640x480 with 1 Axes>"
      ]
     },
     "metadata": {},
     "output_type": "display_data"
    }
   ],
   "source": [
    "# converting the image into numpy from tensor\n",
    "image_np = image_tensor.numpy()  # shape will be (C, H, W)\n",
    "\n",
    "# Rearrange the dimension\n",
    "image_np = np.transpose(image_np, (1,2,0))  # shape will be (H, W, C)\n",
    "\n",
    "# plot the image\n",
    "plt.imshow(image_np)\n",
    "plt.title(class_names[label])\n",
    "plt.show()"
   ]
  }
 ],
 "metadata": {
  "kernelspec": {
   "display_name": ".venv",
   "language": "python",
   "name": "python3"
  },
  "language_info": {
   "codemirror_mode": {
    "name": "ipython",
    "version": 3
   },
   "file_extension": ".py",
   "mimetype": "text/x-python",
   "name": "python",
   "nbconvert_exporter": "python",
   "pygments_lexer": "ipython3",
   "version": "3.12.3"
  }
 },
 "nbformat": 4,
 "nbformat_minor": 2
}
